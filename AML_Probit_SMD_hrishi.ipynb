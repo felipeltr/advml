{
 "cells": [
  {
   "cell_type": "code",
   "execution_count": null,
   "metadata": {
    "colab": {
     "autoexec": {
      "startup": false,
      "wait_interval": 0
     }
    },
    "colab_type": "code",
    "id": "n-g1OE5co77i"
   },
   "outputs": [],
   "source": [
    "from google.colab import auth\n",
    "auth.authenticate_user()"
   ]
  },
  {
   "cell_type": "code",
   "execution_count": null,
   "metadata": {
    "colab": {
     "autoexec": {
      "startup": false,
      "wait_interval": 0
     },
     "base_uri": "https://localhost:8080/",
     "height": 442
    },
    "colab_type": "code",
    "executionInfo": {
     "elapsed": 1300,
     "status": "ok",
     "timestamp": 1524692259382,
     "user": {
      "displayName": "Felipe Luiz Teixeira da Rocha",
      "photoUrl": "//lh4.googleusercontent.com/-elqXL8V2JwM/AAAAAAAAAAI/AAAAAAAAACY/H19aUnwTbE8/s50-c-k-no/photo.jpg",
      "userId": "107734110856879889310"
     },
     "user_tz": 240
    },
    "id": "wYKfio1UQ2f2",
    "outputId": "812f1418-5541-410e-fdc6-6f9212221523"
   },
   "outputs": [],
   "source": [
    "! ls -al"
   ]
  },
  {
   "cell_type": "code",
   "execution_count": null,
   "metadata": {
    "colab": {
     "autoexec": {
      "startup": false,
      "wait_interval": 0
     },
     "base_uri": "https://localhost:8080/",
     "height": 34
    },
    "colab_type": "code",
    "executionInfo": {
     "elapsed": 1902,
     "status": "ok",
     "timestamp": 1524646163684,
     "user": {
      "displayName": "Felipe Luiz Teixeira da Rocha",
      "photoUrl": "//lh4.googleusercontent.com/-elqXL8V2JwM/AAAAAAAAAAI/AAAAAAAAACY/H19aUnwTbE8/s50-c-k-no/photo.jpg",
      "userId": "107734110856879889310"
     },
     "user_tz": 240
    },
    "id": "6zVCRcxHpI92",
    "outputId": "430934c9-34fe-4ddb-f543-f8ac0ad9a1dc"
   },
   "outputs": [],
   "source": [
    "project_id = 'leftover-199123'\n",
    "!gcloud config set project {project_id}"
   ]
  },
  {
   "cell_type": "code",
   "execution_count": null,
   "metadata": {
    "colab": {
     "autoexec": {
      "startup": false,
      "wait_interval": 0
     },
     "base_uri": "https://localhost:8080/",
     "height": 221
    },
    "colab_type": "code",
    "executionInfo": {
     "elapsed": 6743,
     "status": "ok",
     "timestamp": 1524692303684,
     "user": {
      "displayName": "Felipe Luiz Teixeira da Rocha",
      "photoUrl": "//lh4.googleusercontent.com/-elqXL8V2JwM/AAAAAAAAAAI/AAAAAAAAACY/H19aUnwTbE8/s50-c-k-no/photo.jpg",
      "userId": "107734110856879889310"
     },
     "user_tz": 240
    },
    "id": "fJJV2fgCpMQG",
    "outputId": "eec93775-2690-42a7-bf93-2e79d6e80652"
   },
   "outputs": [],
   "source": [
    "! gsutil cp gs://advml-bucket/ads.pickle .\n",
    "! gsutil cp gs://advml-bucket/filtered_events.csv ."
   ]
  },
  {
   "cell_type": "code",
   "execution_count": 1,
   "metadata": {
    "colab": {
     "autoexec": {
      "startup": false,
      "wait_interval": 0
     },
     "base_uri": "https://localhost:8080/",
     "height": 34
    },
    "colab_type": "code",
    "executionInfo": {
     "elapsed": 8705,
     "status": "ok",
     "timestamp": 1524692314351,
     "user": {
      "displayName": "Felipe Luiz Teixeira da Rocha",
      "photoUrl": "//lh4.googleusercontent.com/-elqXL8V2JwM/AAAAAAAAAAI/AAAAAAAAACY/H19aUnwTbE8/s50-c-k-no/photo.jpg",
      "userId": "107734110856879889310"
     },
     "user_tz": 240
    },
    "id": "9fBjV6f8phf9",
    "outputId": "132bc218-14e1-4de0-8f83-d65fa6eaca14"
   },
   "outputs": [
    {
     "name": "stderr",
     "output_type": "stream",
     "text": [
      "/usr/local/lib/python3.5/dist-packages/h5py/__init__.py:36: FutureWarning: Conversion of the second argument of issubdtype from `float` to `np.floating` is deprecated. In future, it will be treated as `np.float64 == np.dtype(float).type`.\n",
      "  from ._conv import register_converters as _register_converters\n",
      "Using TensorFlow backend.\n"
     ]
    }
   ],
   "source": [
    "import numpy as np\n",
    "import pandas as pd\n",
    "import pickle\n",
    "import tensorflow as tf\n",
    "import keras\n",
    "import scipy"
   ]
  },
  {
   "cell_type": "code",
   "execution_count": 2,
   "metadata": {
    "colab": {
     "autoexec": {
      "startup": false,
      "wait_interval": 0
     }
    },
    "colab_type": "code",
    "id": "myIEWJ7Fpum8"
   },
   "outputs": [],
   "source": [
    "def getAdIdConverterFunction(adIds):\n",
    "    # adIdsRev is a dict mapping from ad_id to ad_inx (i.e. the inx of such ad in adIds)\n",
    "    adIdsRev = {adId: inx for inx, adId in enumerate(adIds)}\n",
    "    # Vectorized function to convert ad_id into ad_inx\n",
    "    convertToAdInx = np.vectorize(lambda adId: adIdsRev[adId])\n",
    "    return (adIdsRev,convertToAdInx)\n",
    "\n",
    "def loadAdWeightsAndIds():\n",
    "    with open('ads.pickle','rb') as f:\n",
    "        obj = pickle.load(f)\n",
    "    return obj\n",
    "\n",
    "sparseAdWeights,adIds = loadAdWeightsAndIds()\n",
    "adIdsRev,convertToAdInx = getAdIdConverterFunction(adIds)\n",
    "\n",
    "eventsDf = pd.read_csv('filtered_events.csv')\n",
    "\n",
    "uniqUser = np.unique(eventsDf.uuid)"
   ]
  },
  {
   "cell_type": "code",
   "execution_count": 42,
   "metadata": {
    "colab": {
     "autoexec": {
      "startup": false,
      "wait_interval": 0
     },
     "base_uri": "https://localhost:8080/",
     "height": 391
    },
    "colab_type": "code",
    "executionInfo": {
     "elapsed": 1858,
     "status": "ok",
     "timestamp": 1524692394260,
     "user": {
      "displayName": "Felipe Luiz Teixeira da Rocha",
      "photoUrl": "//lh4.googleusercontent.com/-elqXL8V2JwM/AAAAAAAAAAI/AAAAAAAAACY/H19aUnwTbE8/s50-c-k-no/photo.jpg",
      "userId": "107734110856879889310"
     },
     "user_tz": 240
    },
    "id": "AXWwwhrjp3wN",
    "outputId": "d279280c-72fa-440e-dd30-d4dda0969763"
   },
   "outputs": [
    {
     "name": "stdout",
     "output_type": "stream",
     "text": [
      "_________________________________________________________________\n",
      "Layer (type)                 Output Shape              Param #   \n",
      "=================================================================\n",
      "input_10 (InputLayer)        (None, 1)                 0         \n",
      "_________________________________________________________________\n",
      "embedding_10 (Embedding)     (None, 1, 96)             53719968  \n",
      "_________________________________________________________________\n",
      "dense_8 (Dense)              (None, 1, 1)              97        \n",
      "_________________________________________________________________\n",
      "flatten_5 (Flatten)          (None, 1)                 0         \n",
      "_________________________________________________________________\n",
      "activation_7 (Activation)    (None, 1)                 0         \n",
      "=================================================================\n",
      "Total params: 53,720,065\n",
      "Trainable params: 97\n",
      "Non-trainable params: 53,719,968\n",
      "_________________________________________________________________\n"
     ]
    }
   ],
   "source": [
    "from keras.layers import *\n",
    "\n",
    "\n",
    "def probit_activation(x):\n",
    "    return tf.distributions.Normal(loc=0., scale=1.).cdf(x)\n",
    "\n",
    "def createProbitModel():\n",
    "\n",
    "#     userInxInput = Input(shape=(1,))\n",
    "    adInxInput = Input(shape=(1,))\n",
    "\n",
    "    adWeightLayer = Embedding(\n",
    "        sparseAdWeights.shape[0],\n",
    "        sparseAdWeights.shape[1],\n",
    "        input_length=1,\n",
    "        trainable=False,\n",
    "        weights=[sparseAdWeights.toarray()]\n",
    "    )(adInxInput)\n",
    "\n",
    "#     userWeightLayer = Embedding(uniqUser.shape[0],sparseAdWeights.shape[1],input_length=1)(userInxInput)\n",
    "\n",
    "#     dotLayer = Dot(-1)([adWeightLayer,userWeightLayer])\n",
    "    flat_ = Dense(1)(adWeightLayer)\n",
    "\n",
    "    flat_ = Flatten()(flat_)\n",
    "#     flat_ = Flatten()(dotLayer)\n",
    "\n",
    "    activationLayer = Activation(probit_activation)(flat_)\n",
    "\n",
    "    model = keras.models.Model(inputs=(adInxInput),outputs=(activationLayer))\n",
    "\n",
    "    model.compile(loss='mse', optimizer='adam') ## Maybe another optimizer?\n",
    "    \n",
    "    return model\n",
    "\n",
    "model = createProbitModel()\n",
    "\n",
    "model.summary()"
   ]
  },
  {
   "cell_type": "code",
   "execution_count": 43,
   "metadata": {
    "colab": {
     "autoexec": {
      "startup": false,
      "wait_interval": 0
     },
     "base_uri": "https://localhost:8080/",
     "height": 1074
    },
    "colab_type": "code",
    "executionInfo": {
     "elapsed": 687097,
     "status": "ok",
     "timestamp": 1524618172305,
     "user": {
      "displayName": "Felipe Luiz Teixeira da Rocha",
      "photoUrl": "//lh4.googleusercontent.com/-elqXL8V2JwM/AAAAAAAAAAI/AAAAAAAAACY/H19aUnwTbE8/s50-c-k-no/photo.jpg",
      "userId": "107734110856879889310"
     },
     "user_tz": 240
    },
    "id": "F0h2yvNwp8kS",
    "outputId": "e7471e49-b05b-461c-afaf-f51b9cabc00f"
   },
   "outputs": [
    {
     "name": "stdout",
     "output_type": "stream",
     "text": [
      "Epoch 1/30\n",
      "2405074/2405074 [==============================] - 5s 2us/step - loss: 0.1611\n",
      "Epoch 2/30\n",
      "2405074/2405074 [==============================] - 4s 2us/step - loss: 0.1521\n",
      "Epoch 3/30\n",
      "2405074/2405074 [==============================] - 4s 2us/step - loss: 0.1520\n",
      "Epoch 4/30\n",
      "2405074/2405074 [==============================] - 4s 2us/step - loss: 0.1519\n",
      "Epoch 5/30\n",
      "2405074/2405074 [==============================] - 4s 2us/step - loss: 0.1519\n",
      "Epoch 6/30\n",
      "2405074/2405074 [==============================] - 4s 2us/step - loss: 0.1519\n",
      "Epoch 7/30\n",
      "2405074/2405074 [==============================] - 4s 2us/step - loss: 0.1519\n",
      "Epoch 8/30\n",
      "2405074/2405074 [==============================] - 4s 2us/step - loss: 0.1519\n",
      "Epoch 9/30\n",
      "2405074/2405074 [==============================] - 4s 2us/step - loss: 0.1519\n",
      "Epoch 10/30\n",
      "2405074/2405074 [==============================] - 5s 2us/step - loss: 0.1519\n",
      "Epoch 11/30\n",
      "2405074/2405074 [==============================] - 5s 2us/step - loss: 0.1519\n",
      "Epoch 12/30\n",
      "2405074/2405074 [==============================] - 4s 2us/step - loss: 0.1519\n",
      "Epoch 13/30\n",
      "2405074/2405074 [==============================] - 4s 2us/step - loss: 0.1519\n",
      "Epoch 14/30\n",
      "2405074/2405074 [==============================] - 4s 2us/step - loss: 0.1519\n",
      "Epoch 15/30\n",
      "2405074/2405074 [==============================] - 4s 2us/step - loss: 0.1519\n",
      "Epoch 16/30\n",
      "2405074/2405074 [==============================] - 4s 2us/step - loss: 0.1519\n",
      "Epoch 17/30\n",
      "2405074/2405074 [==============================] - 4s 2us/step - loss: 0.1519\n",
      "Epoch 18/30\n",
      "2405074/2405074 [==============================] - 4s 2us/step - loss: 0.1519\n",
      "Epoch 19/30\n",
      "2405074/2405074 [==============================] - 4s 2us/step - loss: 0.1519\n",
      "Epoch 20/30\n",
      "2405074/2405074 [==============================] - 4s 2us/step - loss: 0.1519\n",
      "Epoch 21/30\n",
      "2405074/2405074 [==============================] - 4s 2us/step - loss: 0.1519\n",
      "Epoch 22/30\n",
      "2405074/2405074 [==============================] - 4s 2us/step - loss: 0.1519\n",
      "Epoch 23/30\n",
      "2405074/2405074 [==============================] - 4s 2us/step - loss: 0.1519\n",
      "Epoch 24/30\n",
      "2405074/2405074 [==============================] - 4s 2us/step - loss: 0.1519\n",
      "Epoch 25/30\n",
      "2405074/2405074 [==============================] - 4s 2us/step - loss: 0.1519\n",
      "Epoch 26/30\n",
      "2405074/2405074 [==============================] - 4s 2us/step - loss: 0.1519\n",
      "Epoch 27/30\n",
      "2405074/2405074 [==============================] - 4s 2us/step - loss: 0.1519\n",
      "Epoch 28/30\n",
      "2405074/2405074 [==============================] - 4s 2us/step - loss: 0.1519\n",
      "Epoch 29/30\n",
      "2405074/2405074 [==============================] - 5s 2us/step - loss: 0.1519\n",
      "Epoch 30/30\n",
      "2405074/2405074 [==============================] - 4s 2us/step - loss: 0.1519\n"
     ]
    },
    {
     "data": {
      "text/plain": [
       "<keras.callbacks.History at 0x7faa4940e358>"
      ]
     },
     "execution_count": 43,
     "metadata": {},
     "output_type": "execute_result"
    }
   ],
   "source": [
    "from keras.callbacks import *\n",
    "\n",
    "weights_filename = 'probit.h5'\n",
    "\n",
    "model.fit(\n",
    "    [eventsDf.ad_inx],\n",
    "    eventsDf.clicked,\n",
    "    epochs = 30,\n",
    "    shuffle=True,\n",
    "    batch_size=2000,\n",
    "    callbacks=[\n",
    "        EarlyStopping(monitor='loss', patience=2),\n",
    "        ModelCheckpoint(weights_filename, monitor='loss', save_best_only=True, save_weights_only=True),\n",
    "    ]\n",
    ")"
   ]
  },
  {
   "cell_type": "code",
   "execution_count": null,
   "metadata": {
    "colab": {
     "autoexec": {
      "startup": false,
      "wait_interval": 0
     },
     "base_uri": "https://localhost:8080/",
     "height": 272
    },
    "colab_type": "code",
    "executionInfo": {
     "elapsed": 7098,
     "status": "ok",
     "timestamp": 1524620018261,
     "user": {
      "displayName": "Felipe Luiz Teixeira da Rocha",
      "photoUrl": "//lh4.googleusercontent.com/-elqXL8V2JwM/AAAAAAAAAAI/AAAAAAAAACY/H19aUnwTbE8/s50-c-k-no/photo.jpg",
      "userId": "107734110856879889310"
     },
     "user_tz": 240
    },
    "id": "KL6XspVnqhzi",
    "outputId": "aab1a7f8-6951-4a97-c244-bea9396bc6bf"
   },
   "outputs": [],
   "source": [
    "! gsutil cp probit.h5 gs://advml-bucket/"
   ]
  },
  {
   "cell_type": "code",
   "execution_count": null,
   "metadata": {
    "colab": {
     "autoexec": {
      "startup": false,
      "wait_interval": 0
     },
     "base_uri": "https://localhost:8080/",
     "height": 68
    },
    "colab_type": "code",
    "executionInfo": {
     "elapsed": 6864,
     "status": "ok",
     "timestamp": 1524692414189,
     "user": {
      "displayName": "Felipe Luiz Teixeira da Rocha",
      "photoUrl": "//lh4.googleusercontent.com/-elqXL8V2JwM/AAAAAAAAAAI/AAAAAAAAACY/H19aUnwTbE8/s50-c-k-no/photo.jpg",
      "userId": "107734110856879889310"
     },
     "user_tz": 240
    },
    "id": "SceP6AGU_tOa",
    "outputId": "b857e776-38d6-4d00-d896-e6c55315a85a"
   },
   "outputs": [],
   "source": [
    "! gsutil cp gs://advml-bucket/probit.h5 .\n",
    "    \n",
    "model.load_weights('probit.h5')"
   ]
  },
  {
   "cell_type": "markdown",
   "metadata": {
    "colab_type": "text",
    "id": "hX5WxrmIhGNn"
   },
   "source": [
    "## simulation"
   ]
  },
  {
   "cell_type": "code",
   "execution_count": 14,
   "metadata": {
    "colab": {
     "autoexec": {
      "startup": false,
      "wait_interval": 0
     },
     "base_uri": "https://localhost:8080/",
     "height": 51
    },
    "colab_type": "code",
    "executionInfo": {
     "elapsed": 2725,
     "status": "ok",
     "timestamp": 1524692655894,
     "user": {
      "displayName": "Felipe Luiz Teixeira da Rocha",
      "photoUrl": "//lh4.googleusercontent.com/-elqXL8V2JwM/AAAAAAAAAAI/AAAAAAAAACY/H19aUnwTbE8/s50-c-k-no/photo.jpg",
      "userId": "107734110856879889310"
     },
     "user_tz": 240
    },
    "id": "dkc9lSFthL6W",
    "outputId": "9c7a8eab-056d-4c2b-926f-1fc1f7c20066"
   },
   "outputs": [
    {
     "name": "stdout",
     "output_type": "stream",
     "text": [
      "[  2149   6531 135434  46596  16628   1172]\n",
      "2.7590551376342773\n"
     ]
    }
   ],
   "source": [
    "\n",
    "\n",
    "\n",
    "class SubModDiv():\n",
    "    def __init__(self,wAds,regrModel,alpha=1.0,beta=1.0):\n",
    "        self.regrModel = regrModel\n",
    "        \n",
    "        self.a = alpha\n",
    "        self.b = beta\n",
    "        self.wAds = wAds.toarray() # \"a_i\" in paper\n",
    "        self.c = np.zeros(wAds.shape[1]) # \"c\" in section 4.1 of paper\n",
    "        self.v = np.zeros(wAds.shape[1]) # \"v\" in section 4.1 of paper\n",
    "        \n",
    "#         with tf.device(' ')\n",
    "        with tf.device('/gpu:0'):\n",
    "            self.initTensorflowOp()\n",
    "        \n",
    "    def initTensorflowOp(self):\n",
    "        ## Tensorflow code for subsetiteration\n",
    "        t_prevAdInx = tf.placeholder(tf.int32,shape=(None))\n",
    "        t_probs = tf.placeholder(tf.float32,shape=(self.wAds.shape[0]))\n",
    "        t_wAds = tf.placeholder(tf.float32,shape=self.wAds.shape)\n",
    "        t_w = tf.placeholder(tf.float32,shape=(self.wAds.shape[1]))\n",
    "        \n",
    "        t_prevAdSum = tf.constant(1.0)+tf.reduce_sum(tf.gather(t_wAds,t_prevAdInx),axis=0)\n",
    "        \n",
    "        t_prevProbSum = tf.reduce_sum(tf.gather(t_probs,t_prevAdInx),axis=0)\n",
    "        \n",
    "        t_newAs = tf.log(t_wAds + t_prevAdSum)\n",
    "        \n",
    "        t_dotProds = tf.reduce_sum(t_w * t_newAs,axis=1)\n",
    "        \n",
    "        t_scores = t_prevProbSum + t_probs\n",
    "        \n",
    "        t_prevAdMask = tf.cond(\n",
    "            tf.equal( tf.shape(t_prevAdInx)[0], tf.constant(0,dtype=tf.int32) ),\n",
    "            lambda: tf.zeros(self.wAds.shape[0]),\n",
    "            lambda: tf.reduce_sum(tf.one_hot(t_prevAdInx,tf.constant(self.wAds.shape[0])),axis=0)\n",
    "        )\n",
    "        \n",
    "        \n",
    "        t_rho = t_dotProds + t_scores - ( t_prevAdMask * tf.constant(1e5))\n",
    "        \n",
    "        t_maxInx = tf.argmax(t_rho)\n",
    "        \n",
    "        self.t_prevAdInx = t_prevAdInx\n",
    "        self.t_probs = t_probs\n",
    "        self.t_wAds = t_wAds\n",
    "        self.t_w = t_w\n",
    "        \n",
    "        self.t_maxInx = t_maxInx\n",
    "        \n",
    "        \n",
    "    def getW(self):\n",
    "        return (self.c + self.a)/(self.v + self.a + self.b)\n",
    "    \n",
    "    def resetW(self):\n",
    "        self.c[:] = 0\n",
    "        self.v[:] = 0   \n",
    "    \n",
    "    def subSetIteration(self,probs,prevAdInx):\n",
    "        w = self.getW()\n",
    "        \n",
    "        prevAdSum = 1+self.wAds[prevAdInx].sum(axis=0)\n",
    "        prevProbSum = probs[prevAdInx].sum()\n",
    "       \n",
    "        newAs = np.log(self.wAds + prevAdSum)  \n",
    "    \n",
    "        dotProds = (w * newAs).sum(axis=1)\n",
    "        \n",
    "        scores = prevProbSum + probs\n",
    "\n",
    "        rho = dotProds + scores\n",
    "        rho[prevAdInx] = -np.inf\n",
    "        \n",
    "        maxInx = np.argmax(rho)\n",
    "        \n",
    "        return maxInx\n",
    "        \n",
    "        \n",
    "    def getSubSet(self,userInx,n=6):\n",
    "#         t = time.time()\n",
    "        probs = self.regrModel.predict([\n",
    "            np.array([userInx]*self.wAds.shape[0]),\n",
    "            np.arange(self.wAds.shape[0])\n",
    "        ],batch_size=50000).ravel()\n",
    "#         print(time.time()-t)\n",
    "        \n",
    "        currAdSet = np.empty(0,dtype=np.int)\n",
    "#         currAdSet = np.array([1])\n",
    "        \n",
    "        with tf.device('/gpu:0'):\n",
    "            with tf.Session() as sess:\n",
    "\n",
    "                while len(currAdSet) < n:\n",
    "#                     t = time.time()\n",
    "                    newAd = sess.run(self.t_maxInx,feed_dict={\n",
    "                        self.t_prevAdInx: currAdSet,\n",
    "                        self.t_probs: probs,\n",
    "                        self.t_wAds: self.wAds,\n",
    "                        self.t_w: self.getW()\n",
    "                    })\n",
    "#                     print(time.time()-t)\n",
    "#                     print(newAd)\n",
    "#                     newAd = self.subSetIteration(probs,currAdSet)\n",
    "#                     print(list(newAd)[:50])\n",
    "#                     break \n",
    "                    currAdSet = np.append(currAdSet,newAd)\n",
    "        \n",
    "        # Update v\n",
    "        self.v += self.wAds[currAdSet].sum(axis=0)\n",
    "            \n",
    "        return currAdSet\n",
    "    \n",
    "    def registerClick(self,adInx):\n",
    "        self.c += self.wAds[adInx]\n",
    "        \n",
    "smd = SubModDiv(sparseAdWeights,model)\n",
    "\n",
    "import time\n",
    "\n",
    "t = time.time()\n",
    "print(smd.getSubSet(1))\n",
    "print(time.time()-t)\n",
    "    "
   ]
  },
  {
   "cell_type": "code",
   "execution_count": 25,
   "metadata": {},
   "outputs": [
    {
     "name": "stdout",
     "output_type": "stream",
     "text": [
      "[ 2149  6531 17206 25614   158 22582]\n",
      "2.833284854888916\n"
     ]
    }
   ],
   "source": [
    "\n",
    "\n",
    "\n",
    "class SubModDivUser():\n",
    "    def __init__(self, nUsers, wAds, regrModel, alpha=None):\n",
    "        self.regrModel = regrModel\n",
    "        nCat = wAds.shape[1]\n",
    "        if alpha == None:\n",
    "            self.a = np.ones(nCat)\n",
    "        else:\n",
    "            assert(len(alpha) == nCat)\n",
    "            self.a = alpha\n",
    "        self.wAds = wAds.toarray()\n",
    "        self.c = np.zeros((nUsers, wAds.shape[1])) # \"c\" in section 4.1 of paper\n",
    "        \n",
    "#         with tf.device(' ')\n",
    "        with tf.device('/gpu:0'):\n",
    "            self.initTensorflowOp()\n",
    "        \n",
    "    def initTensorflowOp(self):\n",
    "        ## Tensorflow code for subsetiteration\n",
    "        t_prevAdInx = tf.placeholder(tf.int32,shape=(None))\n",
    "        t_probs = tf.placeholder(tf.float32,shape=(self.wAds.shape[0]))\n",
    "        t_wAds = tf.placeholder(tf.float32,shape=self.wAds.shape)\n",
    "        t_w = tf.placeholder(tf.float32,shape=(self.wAds.shape[1]))\n",
    "        \n",
    "        t_prevAdSum = tf.constant(1.0)+tf.reduce_sum(tf.gather(t_wAds,t_prevAdInx),axis=0)\n",
    "        \n",
    "        t_prevProbSum = tf.reduce_sum(tf.gather(t_probs,t_prevAdInx),axis=0)\n",
    "        \n",
    "        t_newAs = tf.log(t_wAds + t_prevAdSum)\n",
    "        \n",
    "        t_dotProds = tf.reduce_sum(t_w * t_newAs,axis=1)\n",
    "        \n",
    "        t_scores = t_prevProbSum + t_probs\n",
    "        \n",
    "        t_prevAdMask = tf.cond(\n",
    "            tf.equal( tf.shape(t_prevAdInx)[0], tf.constant(0,dtype=tf.int32) ),\n",
    "            lambda: tf.zeros(self.wAds.shape[0]),\n",
    "            lambda: tf.reduce_sum(tf.one_hot(t_prevAdInx,tf.constant(self.wAds.shape[0])),axis=0)\n",
    "        )\n",
    "        \n",
    "        \n",
    "        t_rho = t_dotProds + t_scores - ( t_prevAdMask * tf.constant(1e5))\n",
    "        \n",
    "        t_maxInx = tf.argmax(t_rho)\n",
    "        \n",
    "        self.t_prevAdInx = t_prevAdInx\n",
    "        self.t_probs = t_probs\n",
    "        self.t_wAds = t_wAds\n",
    "        self.t_w = t_w\n",
    "        \n",
    "        self.t_maxInx = t_maxInx\n",
    "        \n",
    "        \n",
    "    def getW(self, userInx):\n",
    "        return (self.c[userInx] + self.a) / np.linalg.norm(self.c[userInx] + self.a, ord=1)\n",
    "    \n",
    "    def resetW(self):\n",
    "        self.c[:,:] = 0   \n",
    "    \n",
    "    def subSetIteration(self,probs,prevAdInx):\n",
    "        w = self.getW()\n",
    "        \n",
    "        prevAdSum = 1+self.wAds[prevAdInx].sum(axis=0)\n",
    "        prevProbSum = probs[prevAdInx].sum()\n",
    "       \n",
    "        newAs = np.log(self.wAds + prevAdSum)  \n",
    "    \n",
    "        dotProds = (w * newAs).sum(axis=1)\n",
    "        \n",
    "        scores = prevProbSum + probs\n",
    "\n",
    "        rho = dotProds + scores\n",
    "        rho[prevAdInx] = -np.inf\n",
    "        \n",
    "        maxInx = np.argmax(rho)\n",
    "        \n",
    "        return maxInx\n",
    "        \n",
    "        \n",
    "    def getSubSet(self, userInx, n=6):\n",
    "#         t = time.time()\n",
    "        probs = self.regrModel.predict([\n",
    "            np.array([userInx]*self.wAds.shape[0]),\n",
    "            np.arange(self.wAds.shape[0])\n",
    "        ],batch_size=50000).ravel()\n",
    "#         print(time.time()-t)\n",
    "        \n",
    "        currAdSet = np.empty(0,dtype=np.int)\n",
    "\n",
    "        \n",
    "        with tf.device('/gpu:0'):\n",
    "            with tf.Session() as sess:\n",
    "\n",
    "                while len(currAdSet) < n:\n",
    "#                     t = time.time()\n",
    "                    newAd = sess.run(self.t_maxInx,feed_dict={\n",
    "                        self.t_prevAdInx: currAdSet,\n",
    "                        self.t_probs: probs,\n",
    "                        self.t_wAds: self.wAds,\n",
    "                        self.t_w: self.getW(userInx)\n",
    "                    })\n",
    "\n",
    "                    currAdSet = np.append(currAdSet,newAd)\n",
    "\n",
    "        \n",
    "#         print(self.wAds[currAdSet])\n",
    "            \n",
    "        return currAdSet\n",
    "    \n",
    "    def registerClick(self, userInx, adInx):\n",
    "        self.c[userInx] += self.wAds[adInx]\n",
    "        \n",
    "smd = SubModDivUser(uniqUser.shape[0], sparseAdWeights, model)\n",
    "\n",
    "t = time.time()\n",
    "print(smd.getSubSet(1))\n",
    "print(time.time()-t)\n",
    "    "
   ]
  },
  {
   "cell_type": "code",
   "execution_count": 6,
   "metadata": {},
   "outputs": [],
   "source": [
    "class ItemSetDist():\n",
    "    \n",
    "    def __init__(self, wAds, alpha=1.0, beta=1.0):\n",
    "        \n",
    "        self.a = alpha\n",
    "        self.b = beta\n",
    "        self.wAds = wAds.toarray() # \"a_i\" in paper\n",
    "        self.c = np.zeros(wAds.shape[1]) # \"c\" in section 4.1 of paper\n",
    "        self.v = np.zeros(wAds.shape[1]) # \"v\" in section 4.1 of paper\n",
    "        \n",
    "    def getMostRel(self):\n",
    "        \n",
    "        w = self.getW()\n",
    "        maxInx = np.argmax(np.dot(self.wAds, w))\n",
    "        return maxInx\n",
    "        \n",
    "    def getW(self):\n",
    "        \n",
    "        return (self.c + self.a) + (self.v + self.a + self.b)\n",
    "    \n",
    "    def subsetIteration(self, prevadInx):\n",
    "        \n",
    "        S = self.wAds[prevadInx]\n",
    "        X = self.wAds#[np.isin(np.arange(len(self.wAds)), currAd, invert=True)]\n",
    "        \n",
    "        maxInx = np.argmax(np.min(np.linalg.norm((S - np.repeat(X.reshape(-1, 1, 96), len(prevadInx), axis=1)), axis=-1), axis=-1))\n",
    "        return maxInx\n",
    "    \n",
    "    def getSubset(self, n=6):\n",
    "        \n",
    "        currAdSet = []\n",
    "        \n",
    "        currAdSet.append(self.getMostRel())\n",
    "        \n",
    "        for i in range(n-1):\n",
    "            \n",
    "            maxInx = self.subsetIteration(currAdSet)\n",
    "            currAdSet.append(maxInx)\n",
    "            \n",
    "                # Update v\n",
    "            self.v += self.wAds[currAdSet].sum(axis=0)\n",
    "        return currAdSet"
   ]
  },
  {
   "cell_type": "code",
   "execution_count": 7,
   "metadata": {},
   "outputs": [],
   "source": [
    "isd = ItemSetDist(sparseAdWeights)"
   ]
  },
  {
   "cell_type": "code",
   "execution_count": 11,
   "metadata": {},
   "outputs": [
    {
     "name": "stdout",
     "output_type": "stream",
     "text": [
      "12.12611198425293\n"
     ]
    }
   ],
   "source": [
    "import time\n",
    "t = time.time()\n",
    "isd.getSubset()\n",
    "print(time.time() - t)"
   ]
  },
  {
   "cell_type": "code",
   "execution_count": 27,
   "metadata": {},
   "outputs": [],
   "source": [
    "currAd = [1,2,3]"
   ]
  },
  {
   "cell_type": "code",
   "execution_count": 29,
   "metadata": {},
   "outputs": [],
   "source": [
    "wAds = sparseAdWeights.toarray()"
   ]
  },
  {
   "cell_type": "code",
   "execution_count": 37,
   "metadata": {},
   "outputs": [
    {
     "data": {
      "text/plain": [
       "(559583, 96)"
      ]
     },
     "execution_count": 37,
     "metadata": {},
     "output_type": "execute_result"
    }
   ],
   "source": [
    "wAds.shape"
   ]
  },
  {
   "cell_type": "code",
   "execution_count": 38,
   "metadata": {},
   "outputs": [],
   "source": [
    "S = wAds[currAd]\n",
    "X = wAds[np.isin(np.arange(len(wAds)), currAd, invert=True)]"
   ]
  },
  {
   "cell_type": "code",
   "execution_count": 53,
   "metadata": {},
   "outputs": [
    {
     "data": {
      "text/plain": [
       "(559580, 3)"
      ]
     },
     "execution_count": 53,
     "metadata": {},
     "output_type": "execute_result"
    }
   ],
   "source": [
    "np.linalg.norm((S - np.repeat(X.reshape(-1, 1, 96), 3, axis=1)), axis=-1).shape"
   ]
  },
  {
   "cell_type": "code",
   "execution_count": 55,
   "metadata": {},
   "outputs": [
    {
     "data": {
      "text/plain": [
       "2"
      ]
     },
     "execution_count": 55,
     "metadata": {},
     "output_type": "execute_result"
    }
   ],
   "source": [
    "np.argmax(np.min(np.linalg.norm((S - np.repeat(X.reshape(-1, 1, 96), 3, axis=1)), axis=-1), axis=-1))"
   ]
  },
  {
   "cell_type": "code",
   "execution_count": 25,
   "metadata": {},
   "outputs": [
    {
     "data": {
      "text/plain": [
       "(559583,)"
      ]
     },
     "execution_count": 25,
     "metadata": {},
     "output_type": "execute_result"
    }
   ],
   "source": [
    "np.dot(sparseAdWeights.toarray(), np.ones(sparseAdWeights.toarray().shape[1]))"
   ]
  }
 ],
 "metadata": {
  "accelerator": "GPU",
  "colab": {
   "default_view": {},
   "name": "AML Probit & SMD",
   "provenance": [],
   "version": "0.3.2",
   "views": {}
  },
  "kernelspec": {
   "display_name": "Python 3",
   "language": "python",
   "name": "python3"
  },
  "language_info": {
   "codemirror_mode": {
    "name": "ipython",
    "version": 3
   },
   "file_extension": ".py",
   "mimetype": "text/x-python",
   "name": "python",
   "nbconvert_exporter": "python",
   "pygments_lexer": "ipython3",
   "version": "3.5.2"
  }
 },
 "nbformat": 4,
 "nbformat_minor": 1
}
