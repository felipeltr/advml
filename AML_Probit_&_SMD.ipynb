{
  "nbformat": 4,
  "nbformat_minor": 0,
  "metadata": {
    "colab": {
      "name": "AML Probit & SMD",
      "version": "0.3.2",
      "views": {},
      "default_view": {},
      "provenance": []
    },
    "kernelspec": {
      "name": "python3",
      "display_name": "Python 3"
    },
    "accelerator": "GPU"
  },
  "cells": [
    {
      "metadata": {
        "id": "n-g1OE5co77i",
        "colab_type": "code",
        "colab": {
          "autoexec": {
            "startup": false,
            "wait_interval": 0
          }
        }
      },
      "cell_type": "code",
      "source": [
        "from google.colab import auth\n",
        "auth.authenticate_user()"
      ],
      "execution_count": 0,
      "outputs": []
    },
    {
      "metadata": {
        "id": "wYKfio1UQ2f2",
        "colab_type": "code",
        "colab": {
          "autoexec": {
            "startup": false,
            "wait_interval": 0
          },
          "base_uri": "https://localhost:8080/",
          "height": 442
        },
        "outputId": "812f1418-5541-410e-fdc6-6f9212221523",
        "executionInfo": {
          "status": "ok",
          "timestamp": 1524692259382,
          "user_tz": 240,
          "elapsed": 1300,
          "user": {
            "displayName": "Felipe Luiz Teixeira da Rocha",
            "photoUrl": "//lh4.googleusercontent.com/-elqXL8V2JwM/AAAAAAAAAAI/AAAAAAAAACY/H19aUnwTbE8/s50-c-k-no/photo.jpg",
            "userId": "107734110856879889310"
          }
        }
      },
      "cell_type": "code",
      "source": [
        "! ls -al"
      ],
      "execution_count": 2,
      "outputs": [
        {
          "output_type": "stream",
          "text": [
            "total 4688696\r\n",
            "drwxr-xr-x 1 root root       4096 Apr 25 21:36 .\r\n",
            "drwxr-xr-x 1 root root       4096 Apr 25 21:15 ..\r\n",
            "drwx------ 4 root root       4096 Apr 25 21:16 .cache\r\n",
            "-rw-r--r-- 1 root root 1486734654 Oct  3  2016 clicks_train.csv\r\n",
            "-rw-r--r-- 1 root root  408685316 Apr 25 21:17 clicks_train.csv.zip\r\n",
            "drwxr-xr-x 3 root root       4096 Apr 25 21:16 .config\r\n",
            "drwxr-xr-x 3 root root       4096 Apr 25 21:37 datalab\r\n",
            "-rw-r--r-- 1 root root  118017029 Oct  3  2016 documents_categories.csv\r\n",
            "-rw-r--r-- 1 root root   33912256 Apr 25 21:17 documents_categories.csv.zip\r\n",
            "-rw-r--r-- 1 root root  324096832 Oct  3  2016 documents_entities.csv\r\n",
            "-rw-r--r-- 1 root root  131770515 Apr 25 21:17 documents_entities.csv.zip\r\n",
            "-rw-r--r-- 1 root root   89380566 Oct  3  2016 documents_meta.csv\r\n",
            "-rw-r--r-- 1 root root   16268071 Apr 25 21:17 documents_meta.csv.zip\r\n",
            "-rw-r--r-- 1 root root  339473038 Oct  3  2016 documents_topics.csv\r\n",
            "-rw-r--r-- 1 root root  126782416 Apr 25 21:17 documents_topics.csv.zip\r\n",
            "-rw-r--r-- 1 root root 1208549589 Oct  3  2016 events.csv\r\n",
            "-rw-r--r-- 1 root root  500944537 Apr 25 21:17 events.csv.zip\r\n",
            "drwxr-xr-x 4 root root       4096 Apr 25 21:16 .forever\r\n",
            "drwxr-xr-x 5 root root       4096 Apr 25 21:16 .ipython\r\n",
            "drwxr-xr-x 2 root root       4096 Apr 25 21:17 .kaggle\r\n",
            "drwx------ 3 root root       4096 Apr 25 21:16 .local\r\n",
            "-rw-r--r-- 1 root root   13886609 Oct  3  2016 promoted_content.csv\r\n",
            "-rw-r--r-- 1 root root    2637807 Apr 25 21:17 promoted_content.csv.zip\r\n",
            "-rw------- 1 root root       1024 Apr 25 21:16 .rnd\r\n"
          ],
          "name": "stdout"
        }
      ]
    },
    {
      "metadata": {
        "id": "6zVCRcxHpI92",
        "colab_type": "code",
        "colab": {
          "autoexec": {
            "startup": false,
            "wait_interval": 0
          },
          "base_uri": "https://localhost:8080/",
          "height": 34
        },
        "outputId": "430934c9-34fe-4ddb-f543-f8ac0ad9a1dc",
        "executionInfo": {
          "status": "ok",
          "timestamp": 1524646163684,
          "user_tz": 240,
          "elapsed": 1902,
          "user": {
            "displayName": "Felipe Luiz Teixeira da Rocha",
            "photoUrl": "//lh4.googleusercontent.com/-elqXL8V2JwM/AAAAAAAAAAI/AAAAAAAAACY/H19aUnwTbE8/s50-c-k-no/photo.jpg",
            "userId": "107734110856879889310"
          }
        }
      },
      "cell_type": "code",
      "source": [
        "project_id = 'leftover-199123'\n",
        "!gcloud config set project {project_id}"
      ],
      "execution_count": 3,
      "outputs": [
        {
          "output_type": "stream",
          "text": [
            "Updated property [core/project].\r\n"
          ],
          "name": "stdout"
        }
      ]
    },
    {
      "metadata": {
        "id": "fJJV2fgCpMQG",
        "colab_type": "code",
        "colab": {
          "autoexec": {
            "startup": false,
            "wait_interval": 0
          },
          "base_uri": "https://localhost:8080/",
          "height": 221
        },
        "outputId": "eec93775-2690-42a7-bf93-2e79d6e80652",
        "executionInfo": {
          "status": "ok",
          "timestamp": 1524692303684,
          "user_tz": 240,
          "elapsed": 6743,
          "user": {
            "displayName": "Felipe Luiz Teixeira da Rocha",
            "photoUrl": "//lh4.googleusercontent.com/-elqXL8V2JwM/AAAAAAAAAAI/AAAAAAAAACY/H19aUnwTbE8/s50-c-k-no/photo.jpg",
            "userId": "107734110856879889310"
          }
        }
      },
      "cell_type": "code",
      "source": [
        "! gsutil cp gs://advml-bucket/ads.pickle .\n",
        "! gsutil cp gs://advml-bucket/filtered_events.csv ."
      ],
      "execution_count": 3,
      "outputs": [
        {
          "output_type": "stream",
          "text": [
            "\r\n",
            "\r\n",
            "Updates are available for some Cloud SDK components.  To install them,\r\n",
            "please run:\r\n",
            "  $ gcloud components update\r\n",
            "\n",
            "Copying gs://advml-bucket/ads.pickle...\n",
            "/ [1 files][ 19.2 MiB/ 19.2 MiB]                                                \n",
            "Operation completed over 1 objects/19.2 MiB.                                     \n",
            "Copying gs://advml-bucket/filtered_events.csv...\n",
            "- [1 files][102.3 MiB/102.3 MiB]                                                \n",
            "Operation completed over 1 objects/102.3 MiB.                                    \n"
          ],
          "name": "stdout"
        }
      ]
    },
    {
      "metadata": {
        "id": "9fBjV6f8phf9",
        "colab_type": "code",
        "colab": {
          "autoexec": {
            "startup": false,
            "wait_interval": 0
          },
          "base_uri": "https://localhost:8080/",
          "height": 34
        },
        "outputId": "132bc218-14e1-4de0-8f83-d65fa6eaca14",
        "executionInfo": {
          "status": "ok",
          "timestamp": 1524692314351,
          "user_tz": 240,
          "elapsed": 8705,
          "user": {
            "displayName": "Felipe Luiz Teixeira da Rocha",
            "photoUrl": "//lh4.googleusercontent.com/-elqXL8V2JwM/AAAAAAAAAAI/AAAAAAAAACY/H19aUnwTbE8/s50-c-k-no/photo.jpg",
            "userId": "107734110856879889310"
          }
        }
      },
      "cell_type": "code",
      "source": [
        "import numpy as np\n",
        "import pandas as pd\n",
        "import pickle\n",
        "import tensorflow as tf\n",
        "import keras\n",
        "import scipy"
      ],
      "execution_count": 4,
      "outputs": [
        {
          "output_type": "stream",
          "text": [
            "Using TensorFlow backend.\n"
          ],
          "name": "stderr"
        }
      ]
    },
    {
      "metadata": {
        "id": "myIEWJ7Fpum8",
        "colab_type": "code",
        "colab": {
          "autoexec": {
            "startup": false,
            "wait_interval": 0
          }
        }
      },
      "cell_type": "code",
      "source": [
        "def getAdIdConverterFunction(adIds):\n",
        "    # adIdsRev is a dict mapping from ad_id to ad_inx (i.e. the inx of such ad in adIds)\n",
        "    adIdsRev = {adId: inx for inx, adId in enumerate(adIds)}\n",
        "    # Vectorized function to convert ad_id into ad_inx\n",
        "    convertToAdInx = np.vectorize(lambda adId: adIdsRev[adId])\n",
        "    return (adIdsRev,convertToAdInx)\n",
        "\n",
        "def loadAdWeightsAndIds():\n",
        "    with open('ads.pickle','rb') as f:\n",
        "        obj = pickle.load(f)\n",
        "    return obj\n",
        "\n",
        "sparseAdWeights,adIds = loadAdWeightsAndIds()\n",
        "adIdsRev,convertToAdInx = getAdIdConverterFunction(adIds)\n",
        "\n",
        "eventsDf = pd.read_csv('filtered_events.csv')\n",
        "\n",
        "uniqUser = np.unique(eventsDf.uuid)"
      ],
      "execution_count": 0,
      "outputs": []
    },
    {
      "metadata": {
        "id": "90bhDad5dRZy",
        "colab_type": "code",
        "colab": {
          "autoexec": {
            "startup": false,
            "wait_interval": 0
          },
          "base_uri": "https://localhost:8080/",
          "height": 34
        },
        "outputId": "f5d89405-8161-4dd5-9026-050252509f25",
        "executionInfo": {
          "status": "ok",
          "timestamp": 1524692619841,
          "user_tz": 240,
          "elapsed": 222,
          "user": {
            "displayName": "Felipe Luiz Teixeira da Rocha",
            "photoUrl": "//lh4.googleusercontent.com/-elqXL8V2JwM/AAAAAAAAAAI/AAAAAAAAACY/H19aUnwTbE8/s50-c-k-no/photo.jpg",
            "userId": "107734110856879889310"
          }
        }
      },
      "cell_type": "code",
      "source": [
        "eventsDf.columns\n",
        "# uniqUser"
      ],
      "execution_count": 13,
      "outputs": [
        {
          "output_type": "execute_result",
          "data": {
            "text/plain": [
              "Index(['display_id', 'uuid', 'ad_id', 'clicked', 'ad_inx', 'user_inx'], dtype='object')"
            ]
          },
          "metadata": {
            "tags": []
          },
          "execution_count": 13
        }
      ]
    },
    {
      "metadata": {
        "id": "AXWwwhrjp3wN",
        "colab_type": "code",
        "colab": {
          "autoexec": {
            "startup": false,
            "wait_interval": 0
          },
          "base_uri": "https://localhost:8080/",
          "height": 391
        },
        "outputId": "d279280c-72fa-440e-dd30-d4dda0969763",
        "executionInfo": {
          "status": "ok",
          "timestamp": 1524692394260,
          "user_tz": 240,
          "elapsed": 1858,
          "user": {
            "displayName": "Felipe Luiz Teixeira da Rocha",
            "photoUrl": "//lh4.googleusercontent.com/-elqXL8V2JwM/AAAAAAAAAAI/AAAAAAAAACY/H19aUnwTbE8/s50-c-k-no/photo.jpg",
            "userId": "107734110856879889310"
          }
        }
      },
      "cell_type": "code",
      "source": [
        "from keras.layers import *\n",
        "\n",
        "\n",
        "def probit_activation(x):\n",
        "    return tf.distributions.Normal(loc=0., scale=1.).cdf(x)\n",
        "\n",
        "def createProbitModel():\n",
        "\n",
        "    userInxInput = Input(shape=(1,))\n",
        "    adInxInput = Input(shape=(1,))\n",
        "\n",
        "    adWeightLayer = Embedding(\n",
        "        sparseAdWeights.shape[0],\n",
        "        sparseAdWeights.shape[1],\n",
        "        input_length=1,\n",
        "        trainable=False,\n",
        "        weights=[sparseAdWeights.toarray()]\n",
        "    )(adInxInput)\n",
        "\n",
        "    userWeightLayer = Embedding(uniqUser.shape[0],sparseAdWeights.shape[1],input_length=1)(userInxInput)\n",
        "\n",
        "    dotLayer = Dot(-1)([adWeightLayer,userWeightLayer])\n",
        "\n",
        "    flat_ = Flatten()(dotLayer)\n",
        "\n",
        "    activationLayer = Activation(probit_activation)(flat_)\n",
        "\n",
        "    model = keras.models.Model(inputs=(userInxInput,adInxInput),outputs=(activationLayer))\n",
        "\n",
        "    model.compile(loss='mse', optimizer='adam') ## Maybe another optimizer?\n",
        "    \n",
        "    return model\n",
        "\n",
        "model = createProbitModel()\n",
        "\n",
        "model.summary()"
      ],
      "execution_count": 7,
      "outputs": [
        {
          "output_type": "stream",
          "text": [
            "__________________________________________________________________________________________________\n",
            "Layer (type)                    Output Shape         Param #     Connected to                     \n",
            "==================================================================================================\n",
            "input_2 (InputLayer)            (None, 1)            0                                            \n",
            "__________________________________________________________________________________________________\n",
            "input_1 (InputLayer)            (None, 1)            0                                            \n",
            "__________________________________________________________________________________________________\n",
            "embedding_1 (Embedding)         (None, 1, 96)        53719968    input_2[0][0]                    \n",
            "__________________________________________________________________________________________________\n",
            "embedding_2 (Embedding)         (None, 1, 96)        9205824     input_1[0][0]                    \n",
            "__________________________________________________________________________________________________\n",
            "dot_1 (Dot)                     (None, 1, 1)         0           embedding_1[0][0]                \n",
            "                                                                 embedding_2[0][0]                \n",
            "__________________________________________________________________________________________________\n",
            "flatten_1 (Flatten)             (None, 1)            0           dot_1[0][0]                      \n",
            "__________________________________________________________________________________________________\n",
            "activation_1 (Activation)       (None, 1)            0           flatten_1[0][0]                  \n",
            "==================================================================================================\n",
            "Total params: 62,925,792\n",
            "Trainable params: 9,205,824\n",
            "Non-trainable params: 53,719,968\n",
            "__________________________________________________________________________________________________\n"
          ],
          "name": "stdout"
        }
      ]
    },
    {
      "metadata": {
        "id": "F0h2yvNwp8kS",
        "colab_type": "code",
        "colab": {
          "autoexec": {
            "startup": false,
            "wait_interval": 0
          },
          "base_uri": "https://localhost:8080/",
          "height": 1074
        },
        "outputId": "e7471e49-b05b-461c-afaf-f51b9cabc00f",
        "executionInfo": {
          "status": "ok",
          "timestamp": 1524618172305,
          "user_tz": 240,
          "elapsed": 687097,
          "user": {
            "displayName": "Felipe Luiz Teixeira da Rocha",
            "photoUrl": "//lh4.googleusercontent.com/-elqXL8V2JwM/AAAAAAAAAAI/AAAAAAAAACY/H19aUnwTbE8/s50-c-k-no/photo.jpg",
            "userId": "107734110856879889310"
          }
        }
      },
      "cell_type": "code",
      "source": [
        "from keras.callbacks import *\n",
        "\n",
        "weights_filename = 'probit.h5'\n",
        "\n",
        "model.fit(\n",
        "    [eventsDf.user_inx,eventsDf.ad_inx],\n",
        "    eventsDf.clicked,\n",
        "    epochs = 60,\n",
        "    shuffle=True,\n",
        "    batch_size=2000,\n",
        "    callbacks=[\n",
        "        EarlyStopping(monitor='loss', patience=2),\n",
        "        ModelCheckpoint(weights_filename, monitor='loss', save_best_only=True, save_weights_only=True),\n",
        "    ]\n",
        ")"
      ],
      "execution_count": 11,
      "outputs": [
        {
          "output_type": "stream",
          "text": [
            "Epoch 1/30\n",
            "2405074/2405074 [==============================] - 22s 9us/step - loss: 0.2447\n",
            "Epoch 2/30\n",
            "2284000/2405074 [===========================>..] - ETA: 1s - loss: 0.2232"
          ],
          "name": "stdout"
        },
        {
          "output_type": "stream",
          "text": [
            "2405074/2405074 [==============================] - 22s 9us/step - loss: 0.2229\n",
            "Epoch 3/30\n",
            "2405074/2405074 [==============================] - 22s 9us/step - loss: 0.2022\n",
            "Epoch 4/30\n",
            " 780000/2405074 [========>.....................] - ETA: 15s - loss: 0.1858"
          ],
          "name": "stdout"
        },
        {
          "output_type": "stream",
          "text": [
            "2405074/2405074 [==============================] - 22s 9us/step - loss: 0.1841\n",
            "Epoch 5/30\n",
            "2405074/2405074 [==============================] - 22s 9us/step - loss: 0.1685\n",
            "Epoch 6/30\n",
            " 340000/2405074 [===>..........................] - ETA: 19s - loss: 0.1561"
          ],
          "name": "stdout"
        },
        {
          "output_type": "stream",
          "text": [
            "2405074/2405074 [==============================] - 22s 9us/step - loss: 0.1550\n",
            "Epoch 7/30\n",
            "2405074/2405074 [==============================] - 22s 9us/step - loss: 0.1433\n",
            "Epoch 8/30\n",
            " 208000/2405074 [=>............................] - ETA: 21s - loss: 0.1330"
          ],
          "name": "stdout"
        },
        {
          "output_type": "stream",
          "text": [
            "2405074/2405074 [==============================] - 22s 9us/step - loss: 0.1331\n",
            "Epoch 9/30\n",
            "2405074/2405074 [==============================] - 22s 9us/step - loss: 0.1242\n",
            "Epoch 10/30\n",
            " 178000/2405074 [=>............................] - ETA: 21s - loss: 0.1159"
          ],
          "name": "stdout"
        },
        {
          "output_type": "stream",
          "text": [
            "2405074/2405074 [==============================] - 22s 9us/step - loss: 0.1164\n",
            "Epoch 11/30\n",
            "2405074/2405074 [==============================] - 22s 9us/step - loss: 0.1095\n",
            "Epoch 12/30\n",
            " 152000/2405074 [>.............................] - ETA: 22s - loss: 0.1034"
          ],
          "name": "stdout"
        },
        {
          "output_type": "stream",
          "text": [
            "2405074/2405074 [==============================] - 22s 9us/step - loss: 0.1035\n",
            "Epoch 13/30\n",
            "2405074/2405074 [==============================] - 22s 9us/step - loss: 0.0981\n",
            "Epoch 14/30\n",
            " 146000/2405074 [>.............................] - ETA: 22s - loss: 0.0922"
          ],
          "name": "stdout"
        },
        {
          "output_type": "stream",
          "text": [
            "2405074/2405074 [==============================] - 22s 9us/step - loss: 0.0933\n",
            "Epoch 15/30\n",
            "2405074/2405074 [==============================] - 22s 9us/step - loss: 0.0890\n",
            "Epoch 16/30\n",
            " 152000/2405074 [>.............................] - ETA: 22s - loss: 0.0840"
          ],
          "name": "stdout"
        },
        {
          "output_type": "stream",
          "text": [
            "2405074/2405074 [==============================] - 22s 9us/step - loss: 0.0851\n",
            "Epoch 17/30\n",
            "2405074/2405074 [==============================] - 22s 9us/step - loss: 0.0817\n",
            "Epoch 18/30\n",
            " 166000/2405074 [=>............................] - ETA: 21s - loss: 0.0775"
          ],
          "name": "stdout"
        },
        {
          "output_type": "stream",
          "text": [
            "2405074/2405074 [==============================] - 22s 9us/step - loss: 0.0785\n",
            "Epoch 19/30\n",
            "2405074/2405074 [==============================] - 22s 9us/step - loss: 0.0757\n",
            "Epoch 20/30\n",
            " 170000/2405074 [=>............................] - ETA: 21s - loss: 0.0719"
          ],
          "name": "stdout"
        },
        {
          "output_type": "stream",
          "text": [
            "2405074/2405074 [==============================] - 22s 9us/step - loss: 0.0731\n",
            "Epoch 21/30\n",
            "2405074/2405074 [==============================] - 22s 9us/step - loss: 0.0707\n",
            "Epoch 22/30\n",
            " 180000/2405074 [=>............................] - ETA: 21s - loss: 0.0672"
          ],
          "name": "stdout"
        },
        {
          "output_type": "stream",
          "text": [
            "2405074/2405074 [==============================] - 22s 9us/step - loss: 0.0685\n",
            "Epoch 23/30\n",
            "2405074/2405074 [==============================] - 22s 9us/step - loss: 0.0665\n",
            "Epoch 24/30\n",
            " 170000/2405074 [=>............................] - ETA: 21s - loss: 0.0634"
          ],
          "name": "stdout"
        },
        {
          "output_type": "stream",
          "text": [
            "2405074/2405074 [==============================] - 22s 9us/step - loss: 0.0647\n",
            "Epoch 25/30\n",
            "2405074/2405074 [==============================] - 22s 9us/step - loss: 0.0630\n",
            "Epoch 26/30\n",
            " 178000/2405074 [=>............................] - ETA: 21s - loss: 0.0605"
          ],
          "name": "stdout"
        },
        {
          "output_type": "stream",
          "text": [
            "2405074/2405074 [==============================] - 22s 9us/step - loss: 0.0614\n",
            "Epoch 27/30\n",
            "2405074/2405074 [==============================] - 22s 9us/step - loss: 0.0599\n",
            "Epoch 28/30\n",
            " 166000/2405074 [=>............................] - ETA: 21s - loss: 0.0578"
          ],
          "name": "stdout"
        },
        {
          "output_type": "stream",
          "text": [
            "2405074/2405074 [==============================] - 22s 9us/step - loss: 0.0585\n",
            "Epoch 29/30\n",
            "2405074/2405074 [==============================] - 22s 9us/step - loss: 0.0573\n",
            "Epoch 30/30\n",
            " 170000/2405074 [=>............................] - ETA: 21s - loss: 0.0552"
          ],
          "name": "stdout"
        },
        {
          "output_type": "stream",
          "text": [
            "2405074/2405074 [==============================] - 22s 9us/step - loss: 0.0561\n"
          ],
          "name": "stdout"
        },
        {
          "output_type": "execute_result",
          "data": {
            "text/plain": [
              "<keras.callbacks.History at 0x7f9556b5dcf8>"
            ]
          },
          "metadata": {
            "tags": []
          },
          "execution_count": 11
        }
      ]
    },
    {
      "metadata": {
        "id": "KL6XspVnqhzi",
        "colab_type": "code",
        "colab": {
          "autoexec": {
            "startup": false,
            "wait_interval": 0
          },
          "base_uri": "https://localhost:8080/",
          "height": 272
        },
        "outputId": "aab1a7f8-6951-4a97-c244-bea9396bc6bf",
        "executionInfo": {
          "status": "ok",
          "timestamp": 1524620018261,
          "user_tz": 240,
          "elapsed": 7098,
          "user": {
            "displayName": "Felipe Luiz Teixeira da Rocha",
            "photoUrl": "//lh4.googleusercontent.com/-elqXL8V2JwM/AAAAAAAAAAI/AAAAAAAAACY/H19aUnwTbE8/s50-c-k-no/photo.jpg",
            "userId": "107734110856879889310"
          }
        }
      },
      "cell_type": "code",
      "source": [
        "! gsutil cp probit.h5 gs://advml-bucket/"
      ],
      "execution_count": 16,
      "outputs": [
        {
          "output_type": "stream",
          "text": [
            "Copying file://probit.h5 [Content-Type=application/octet-stream]...\r\n",
            "/ [0 files][    0.0 B/240.1 MiB]                                                \r==> NOTE: You are uploading one or more large file(s), which would run\r\n",
            "significantly faster if you enable parallel composite uploads. This\r\n",
            "feature can be enabled by editing the\r\n",
            "\"parallel_composite_upload_threshold\" value in your .boto\r\n",
            "configuration file. However, note that if you do this large files will\r\n",
            "be uploaded as `composite objects\r\n",
            "<https://cloud.google.com/storage/docs/composite-objects>`_,which\r\n",
            "means that any user who downloads such objects will need to have a\r\n",
            "compiled crcmod installed (see \"gsutil help crcmod\"). This is because\r\n",
            "without a compiled crcmod, computing checksums on composite objects is\r\n",
            "so slow that gsutil disables downloads of composite objects.\r\n",
            "\n",
            "-\n",
            "Operation completed over 1 objects/240.1 MiB.                                    \n"
          ],
          "name": "stdout"
        }
      ]
    },
    {
      "metadata": {
        "id": "SceP6AGU_tOa",
        "colab_type": "code",
        "colab": {
          "autoexec": {
            "startup": false,
            "wait_interval": 0
          },
          "base_uri": "https://localhost:8080/",
          "height": 68
        },
        "outputId": "b857e776-38d6-4d00-d896-e6c55315a85a",
        "executionInfo": {
          "status": "ok",
          "timestamp": 1524692414189,
          "user_tz": 240,
          "elapsed": 6864,
          "user": {
            "displayName": "Felipe Luiz Teixeira da Rocha",
            "photoUrl": "//lh4.googleusercontent.com/-elqXL8V2JwM/AAAAAAAAAAI/AAAAAAAAACY/H19aUnwTbE8/s50-c-k-no/photo.jpg",
            "userId": "107734110856879889310"
          }
        }
      },
      "cell_type": "code",
      "source": [
        "! gsutil cp gs://advml-bucket/probit.h5 .\n",
        "    \n",
        "model.load_weights('probit.h5')"
      ],
      "execution_count": 8,
      "outputs": [
        {
          "output_type": "stream",
          "text": [
            "Copying gs://advml-bucket/probit.h5...\n",
            "\\ [1 files][240.1 MiB/240.1 MiB]                                                \n",
            "Operation completed over 1 objects/240.1 MiB.                                    \n"
          ],
          "name": "stdout"
        }
      ]
    },
    {
      "metadata": {
        "id": "hX5WxrmIhGNn",
        "colab_type": "text"
      },
      "cell_type": "markdown",
      "source": [
        "## simulation"
      ]
    },
    {
      "metadata": {
        "id": "dkc9lSFthL6W",
        "colab_type": "code",
        "colab": {
          "autoexec": {
            "startup": false,
            "wait_interval": 0
          },
          "base_uri": "https://localhost:8080/",
          "height": 51
        },
        "outputId": "9c7a8eab-056d-4c2b-926f-1fc1f7c20066",
        "executionInfo": {
          "status": "ok",
          "timestamp": 1524692655894,
          "user_tz": 240,
          "elapsed": 2725,
          "user": {
            "displayName": "Felipe Luiz Teixeira da Rocha",
            "photoUrl": "//lh4.googleusercontent.com/-elqXL8V2JwM/AAAAAAAAAAI/AAAAAAAAACY/H19aUnwTbE8/s50-c-k-no/photo.jpg",
            "userId": "107734110856879889310"
          }
        }
      },
      "cell_type": "code",
      "source": [
        "\n",
        "\n",
        "\n",
        "class SubModDiv():\n",
        "    def __init__(self,wAds,regrModel,alpha=1.0,beta=1.0):\n",
        "        self.regrModel = regrModel\n",
        "        \n",
        "        self.a = alpha\n",
        "        self.b = beta\n",
        "        self.wAds = wAds.toarray() # \"a_i\" in paper\n",
        "        self.c = np.zeros(wAds.shape[1]) # \"c\" in section 4.1 of paper\n",
        "        self.v = np.zeros(wAds.shape[1]) # \"v\" in section 4.1 of paper\n",
        "        \n",
        "#         with tf.device(' ')\n",
        "        with tf.device('/gpu:0'):\n",
        "            self.initTensorflowOp()\n",
        "        \n",
        "    def initTensorflowOp(self):\n",
        "        ## Tensorflow code for subsetiteration\n",
        "        t_prevAdInx = tf.placeholder(tf.int32,shape=(None))\n",
        "        t_probs = tf.placeholder(tf.float32,shape=(self.wAds.shape[0]))\n",
        "        t_wAds = tf.placeholder(tf.float32,shape=self.wAds.shape)\n",
        "        t_w = tf.placeholder(tf.float32,shape=(self.wAds.shape[1]))\n",
        "        \n",
        "        t_prevAdSum = tf.constant(1.0)+tf.reduce_sum(tf.gather(t_wAds,t_prevAdInx),axis=0)\n",
        "        \n",
        "        t_prevProbSum = tf.reduce_sum(tf.gather(t_probs,t_prevAdInx),axis=0)\n",
        "        \n",
        "        t_newAs = tf.log(t_wAds + t_prevAdSum)\n",
        "        \n",
        "        t_dotProds = tf.reduce_sum(t_w * t_newAs,axis=1)\n",
        "        \n",
        "        t_scores = t_prevProbSum + t_probs\n",
        "        \n",
        "        t_prevAdMask = tf.cond(\n",
        "            tf.equal( tf.shape(t_prevAdInx)[0], tf.constant(0,dtype=tf.int32) ),\n",
        "            lambda: tf.zeros(self.wAds.shape[0]),\n",
        "            lambda: tf.reduce_sum(tf.one_hot(t_prevAdInx,tf.constant(self.wAds.shape[0])),axis=0)\n",
        "        )\n",
        "        \n",
        "        \n",
        "        t_rho = t_dotProds + t_scores - ( t_prevAdMask * tf.constant(1e5))\n",
        "        \n",
        "        t_maxInx = tf.argmax(t_rho)\n",
        "        \n",
        "        self.t_prevAdInx = t_prevAdInx\n",
        "        self.t_probs = t_probs\n",
        "        self.t_wAds = t_wAds\n",
        "        self.t_w = t_w\n",
        "        \n",
        "        self.t_maxInx = t_maxInx\n",
        "        \n",
        "          \n",
        "        ##\n",
        "        \n",
        "        \n",
        "    def getW(self):\n",
        "        return (self.c + self.a)/(self.v + self.a + self.b)\n",
        "    \n",
        "    def resetW(self):\n",
        "        self.c[:] = 0\n",
        "        self.v[:] = 0   \n",
        "    \n",
        "    def subSetIteration(self,probs,prevAdInx):\n",
        "        w = self.getW()\n",
        "        \n",
        "        prevAdSum = 1+self.wAds[prevAdInx].sum(axis=0)\n",
        "        prevProbSum = probs[prevAdInx].sum()\n",
        "       \n",
        "        newAs = np.log(self.wAds + prevAdSum)  \n",
        "    \n",
        "        dotProds = (w * newAs).sum(axis=1)\n",
        "        \n",
        "        scores = prevProbSum + probs\n",
        "\n",
        "        rho = dotProds + scores\n",
        "        rho[prevAdInx] = -np.inf\n",
        "        \n",
        "        maxInx = np.argmax(rho)\n",
        "        \n",
        "        return maxInx\n",
        "        \n",
        "        \n",
        "    def getSubSet(self,userInx,n=6):\n",
        "#         t = time.time()\n",
        "        probs = self.regrModel.predict([\n",
        "            np.array([userInx]*self.wAds.shape[0]),\n",
        "            np.arange(self.wAds.shape[0])\n",
        "        ],batch_size=50000).ravel()\n",
        "#         print(time.time()-t)\n",
        "        \n",
        "        currAdSet = np.empty(0,dtype=np.int)\n",
        "#         currAdSet = np.array([1])\n",
        "        \n",
        "        with tf.device('/gpu:0'):\n",
        "            with tf.Session() as sess:\n",
        "\n",
        "                while len(currAdSet) < n:\n",
        "#                     t = time.time()\n",
        "                    newAd = sess.run(self.t_maxInx,feed_dict={\n",
        "                        self.t_prevAdInx: currAdSet,\n",
        "                        self.t_probs: probs,\n",
        "                        self.t_wAds: self.wAds,\n",
        "                        self.t_w: self.getW()\n",
        "                    })\n",
        "#                     print(time.time()-t)\n",
        "#                     print(newAd)\n",
        "#                     newAd = self.subSetIteration(probs,currAdSet)\n",
        "#                     print(list(newAd)[:50])\n",
        "#                     break \n",
        "                    currAdSet = np.append(currAdSet,newAd)\n",
        "        \n",
        "        # Update v\n",
        "        self.v += self.wAds[currAdSet].sum(axis=0)\n",
        "        \n",
        "#         print(self.wAds[currAdSet])\n",
        "            \n",
        "        return currAdSet\n",
        "    \n",
        "    def registerClick(self,adInx):\n",
        "        self.c += self.wAds[adInx]\n",
        "        \n",
        "smd = SubModDiv(sparseAdWeights,model)\n",
        "\n",
        "import time\n",
        "\n",
        "t = time.time()\n",
        "print(smd.getSubSet(1))\n",
        "print(time.time()-t)\n",
        "    "
      ],
      "execution_count": 15,
      "outputs": [
        {
          "output_type": "stream",
          "text": [
            "[ 25614    554 143927  97239    714 446097]\n",
            "1.8968541622161865\n"
          ],
          "name": "stdout"
        }
      ]
    },
    {
      "metadata": {
        "id": "D967OHRGNuYM",
        "colab_type": "code",
        "colab": {
          "autoexec": {
            "startup": false,
            "wait_interval": 0
          },
          "base_uri": "https://localhost:8080/",
          "height": 357
        },
        "outputId": "284cff19-6ad4-4652-8126-16327fbb4e52",
        "executionInfo": {
          "status": "ok",
          "timestamp": 1524692850990,
          "user_tz": 240,
          "elapsed": 323,
          "user": {
            "displayName": "Felipe Luiz Teixeira da Rocha",
            "photoUrl": "//lh4.googleusercontent.com/-elqXL8V2JwM/AAAAAAAAAAI/AAAAAAAAACY/H19aUnwTbE8/s50-c-k-no/photo.jpg",
            "userId": "107734110856879889310"
          }
        }
      },
      "cell_type": "code",
      "source": [
        "# print(smd.getSubSet(4))\n",
        "# print(smd.getSubSet(40))\n",
        "# print(smd.getSubSet(420))\n",
        "\n",
        "smd.getW()"
      ],
      "execution_count": 20,
      "outputs": [
        {
          "output_type": "execute_result",
          "data": {
            "text/plain": [
              "array([0.5       , 0.5       , 0.5       , 0.5       , 0.5       ,\n",
              "       0.33333333, 0.5       , 0.33333333, 0.5       , 0.33333333,\n",
              "       0.5       , 0.5       , 0.5       , 0.5       , 0.5       ,\n",
              "       0.5       , 0.5       , 0.5       , 0.33333333, 0.5       ,\n",
              "       0.5       , 0.33333333, 0.5       , 0.5       , 0.5       ,\n",
              "       0.5       , 0.5       , 0.33333333, 0.5       , 0.5       ,\n",
              "       0.5       , 0.33333333, 0.5       , 0.5       , 0.33333333,\n",
              "       0.5       , 0.25      , 0.33333333, 0.5       , 0.5       ,\n",
              "       0.25      , 0.5       , 0.5       , 0.5       , 0.33333333,\n",
              "       0.5       , 0.33333333, 0.5       , 0.5       , 0.33333333,\n",
              "       0.33333333, 0.5       , 0.5       , 0.2       , 0.5       ,\n",
              "       0.5       , 0.5       , 0.16666667, 0.2       , 0.5       ,\n",
              "       0.5       , 0.5       , 0.5       , 0.5       , 0.5       ,\n",
              "       0.33333333, 0.33333333, 0.5       , 0.5       , 0.5       ,\n",
              "       0.33333333, 0.25      , 0.5       , 0.5       , 0.33333333,\n",
              "       0.5       , 0.5       , 0.5       , 0.5       , 0.5       ,\n",
              "       0.25      , 0.5       , 0.16666667, 0.5       , 0.5       ,\n",
              "       0.33333333, 0.5       , 0.5       , 0.2       , 0.5       ,\n",
              "       0.5       , 0.5       , 0.2       , 0.33333333, 0.5       ,\n",
              "       0.33333333])"
            ]
          },
          "metadata": {
            "tags": []
          },
          "execution_count": 20
        }
      ]
    },
    {
      "metadata": {
        "id": "vazo1qm5OnAe",
        "colab_type": "code",
        "colab": {
          "autoexec": {
            "startup": false,
            "wait_interval": 0
          }
        }
      },
      "cell_type": "code",
      "source": [
        ""
      ],
      "execution_count": 0,
      "outputs": []
    }
  ]
}